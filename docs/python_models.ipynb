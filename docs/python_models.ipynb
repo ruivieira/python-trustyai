{
 "cells": [
  {
   "cell_type": "markdown",
   "id": "19d05727-8e46-42c5-b6a4-e5ad8feb87e0",
   "metadata": {},
   "source": [
    "# Writing models in Python"
   ]
  },
  {
   "cell_type": "code",
   "execution_count": 1,
   "id": "44482f65-4410-4f10-a22b-4da1177687d4",
   "metadata": {
    "tags": [
     "hide_input",
     "remove_input",
     "remove_cell"
    ]
   },
   "outputs": [],
   "source": [
    "import os\n",
    "import sys\n",
    "from pathlib import Path\n",
    "\n",
    "home = str(Path.home())\n",
    "d = os.path.join(home, \"Sync/code/rh/trusty/python-trustyai\")\n",
    "sys.path.insert(0, d)\n",
    "\n",
    "classpath = [\n",
    "    \"../dep/org/kie/kogito/explainability-core/1.5.0.Final/*\",\n",
    "    \"../dep/org/slf4j/slf4j-api/1.7.30/slf4j-api-1.7.30.jar\",\n",
    "    \"../dep/org/apache/commons/commons-lang3/3.8.1/commons-lang3-3.8.1.jar\",\n",
    "]"
   ]
  },
  {
   "cell_type": "code",
   "execution_count": 2,
   "id": "4ed12df2-a874-4897-9788-f6c4f23436a7",
   "metadata": {
    "tags": [
     "hide_output"
    ]
   },
   "outputs": [],
   "source": [
    "import trustyai\n",
    "\n",
    "trustyai.init(classpath)"
   ]
  },
  {
   "cell_type": "code",
   "execution_count": 3,
   "id": "0c5f1e9d-3ec4-4ce9-99e2-723e752fcdd0",
   "metadata": {
    "tags": [
     "hide_output"
    ]
   },
   "outputs": [
    {
     "name": "stderr",
     "output_type": "stream",
     "text": [
      "<ipython-input-3-d3c26ddf7a18>:18: SettingWithCopyWarning: \n",
      "A value is trying to be set on a copy of a slice from a DataFrame.\n",
      "Try using .loc[row_indexer,col_indexer] = value instead\n",
      "\n",
      "See the caveats in the documentation: https://pandas.pydata.org/pandas-docs/stable/user_guide/indexing.html#returning-a-view-versus-a-copy\n",
      "  inputs[\"Age\"] = inputs[\"Age\"].astype(\"float64\")\n"
     ]
    }
   ],
   "source": [
    "import pandas as pd\n",
    "\n",
    "input_file = os.path.join(d, \"docs/data/train.csv\")\n",
    "df = pd.read_csv(input_file)\n",
    "\n",
    "# drop NAs\n",
    "df = df.dropna()\n",
    "\n",
    "# remove non-numeric rows from 'Age'\n",
    "df = df[pd.to_numeric(df[\"Age\"], errors=\"coerce\").notnull()]\n",
    "\n",
    "# filter out outlier incomes\n",
    "filtered = df[df[\"Income\"] < 370]\n",
    "\n",
    "inputs = filtered[[\"Age\", \"Debt\", \"YearsEmployed\", \"Income\"]]\n",
    "\n",
    "# convert 'Age' to a float field\n",
    "inputs[\"Age\"] = inputs[\"Age\"].astype(\"float64\")\n",
    "\n",
    "outputs = filtered[[\"Approved\"]]\n",
    "outputs = outputs.replace({\"-\": 0, \"+\": 1}).astype(\"int8\")"
   ]
  },
  {
   "cell_type": "code",
   "execution_count": 4,
   "id": "dfde34b9-04da-4b60-895f-ab36502eb0ba",
   "metadata": {
    "tags": [
     "hide_output"
    ]
   },
   "outputs": [
    {
     "name": "stderr",
     "output_type": "stream",
     "text": [
      "<ipython-input-4-250735c3dbc4>:17: DataConversionWarning: A column-vector y was passed when a 1d array was expected. Please change the shape of y to (n_samples,), for example using ravel().\n",
      "  model = model.fit(X_train, y_train)\n",
      "[Parallel(n_jobs=1)]: Using backend SequentialBackend with 1 concurrent workers.\n",
      "[Parallel(n_jobs=1)]: Done  10 out of  10 | elapsed:    0.0s finished\n"
     ]
    }
   ],
   "source": [
    "from sklearn.model_selection import train_test_split\n",
    "from sklearn.ensemble import RandomForestClassifier\n",
    "\n",
    "X_train, X_test, y_train, y_test = train_test_split(\n",
    "    inputs, outputs, test_size=0.4, random_state=23\n",
    ")\n",
    "\n",
    "model = RandomForestClassifier(\n",
    "    max_depth=8,\n",
    "    max_leaf_nodes=64,\n",
    "    max_samples=0.5,\n",
    "    n_estimators=10,\n",
    "    verbose=True,\n",
    "    n_jobs=1,\n",
    ")\n",
    "\n",
    "model = model.fit(X_train, y_train)"
   ]
  },
  {
   "cell_type": "code",
   "execution_count": 5,
   "id": "b26c379c-2825-4e2d-ba85-cb8826c2cab6",
   "metadata": {
    "tags": [
     "hide_output"
    ]
   },
   "outputs": [
    {
     "name": "stderr",
     "output_type": "stream",
     "text": [
      "[Parallel(n_jobs=1)]: Using backend SequentialBackend with 1 concurrent workers.\n",
      "[Parallel(n_jobs=1)]: Done  10 out of  10 | elapsed:    0.0s finished\n"
     ]
    },
    {
     "data": {
      "text/plain": [
       "array([1], dtype=int8)"
      ]
     },
     "execution_count": 5,
     "metadata": {},
     "output_type": "execute_result"
    }
   ],
   "source": [
    "import numpy as np\n",
    "\n",
    "model.predict(np.array([[34.75, 15.0, 5.375, 134]]))"
   ]
  },
  {
   "cell_type": "code",
   "execution_count": 6,
   "id": "ae23feea-b0a8-4977-87e0-2b75e74cda78",
   "metadata": {
    "tags": [
     "hide_output"
    ]
   },
   "outputs": [],
   "source": [
    "from trustyai.model import (\n",
    "    PredictionInput,\n",
    "    Output,\n",
    "    PredictionOutput,\n",
    "    Type,\n",
    "    Value,\n",
    ")\n",
    "from java.util import Random, ArrayList, List\n",
    "from trustyai.utils import toJList\n",
    "\n",
    "\n",
    "def creditApproval(inputs):\n",
    "    predictionOutputs = ArrayList()\n",
    "    features = inputs[0].getFeatures()  # single element\n",
    "    values = [features.get(i).getValue().asNumber() for i in range(features.size())]\n",
    "    prediction = model.predict([values])\n",
    "    output = [Output(f\"approved\", Type.NUMBER, Value(prediction[0]), 1.0)]\n",
    "    predictionOutput = PredictionOutput(toJList(output))\n",
    "    predictionOutputs.add(predictionOutput)\n",
    "    return predictionOutputs"
   ]
  },
  {
   "cell_type": "code",
   "execution_count": 7,
   "id": "fcd30b02-0ba7-4142-9ae7-82b42f094460",
   "metadata": {
    "tags": [
     "hide_output"
    ]
   },
   "outputs": [
    {
     "name": "stdout",
     "output_type": "stream",
     "text": [
      "Output{value=1, type=number, score=1.0, name='approved'}\n"
     ]
    },
    {
     "name": "stderr",
     "output_type": "stream",
     "text": [
      "[Parallel(n_jobs=1)]: Using backend SequentialBackend with 1 concurrent workers.\n",
      "[Parallel(n_jobs=1)]: Done  10 out of  10 | elapsed:    0.0s finished\n"
     ]
    }
   ],
   "source": [
    "from trustyai.model import FeatureFactory\n",
    "\n",
    "def createInput(age, debt, year, income):\n",
    "    features = ArrayList()\n",
    "    features.add(FeatureFactory.newNumericalFeature(\"Age\", age))\n",
    "    features.add(FeatureFactory.newNumericalFeature(\"Debt\", debt))\n",
    "    features.add(FeatureFactory.newNumericalFeature(\"YearsEmployed\", year))\n",
    "    features.add(FeatureFactory.newNumericalFeature(\"Income\", income))\n",
    "    return PredictionInput(features)\n",
    "\n",
    "inputs = createInput(34.75, 15.0, 5.375, 134.0)\n",
    "x = creditApproval([inputs])\n",
    "print(x.get(0).getOutputs().get(0).toString())"
   ]
  },
  {
   "cell_type": "code",
   "execution_count": 14,
   "id": "3a987b97-cca6-423a-acf9-8626ecd1e85a",
   "metadata": {
    "tags": [
     "hide_output"
    ]
   },
   "outputs": [],
   "source": [
    "from trustyai.local.lime import LimeConfig, LimeExplainer\n",
    "from java.util import Random\n",
    "from trustyai.model import PerturbationContext\n",
    "\n",
    "jrandom = Random()\n",
    "\n",
    "DEFAULT_NO_OF_PERTURBATIONS = 10\n",
    "\n",
    "limeConfig = (\n",
    "    LimeConfig()\n",
    "    .withPerturbationContext(PerturbationContext(jrandom, DEFAULT_NO_OF_PERTURBATIONS))\n",
    "    .withSamples(10)\n",
    ")\n",
    "limeExplainer = LimeExplainer(limeConfig)"
   ]
  },
  {
   "cell_type": "code",
   "execution_count": 15,
   "id": "faaae55f-62e9-4cdd-bace-afe18b8aeaef",
   "metadata": {
    "tags": [
     "hide_output"
    ]
   },
   "outputs": [],
   "source": [
    "from trustyai.model import PredictionProvider\n",
    "\n",
    "provider = PredictionProvider(creditApproval)"
   ]
  },
  {
   "cell_type": "code",
   "execution_count": 16,
   "id": "df4fc988-f82e-4666-8198-981d8bfee866",
   "metadata": {
    "tags": [
     "hide_output"
    ]
   },
   "outputs": [
    {
     "name": "stdout",
     "output_type": "stream",
     "text": [
      "{approved=Saliency{output=Output{value=1, type=number, score=1.0, name='approved'}, perFeatureImportance=[FeatureImportance{feature=Feature{name='Age', type=number, value=34.75}, score=0.07716557457196652}, FeatureImportance{feature=Feature{name='Debt', type=number, value=15.0}, score=0.07716557457196652}, FeatureImportance{feature=Feature{name='YearsEmployed', type=number, value=5.375}, score=0.07716557457196652}, FeatureImportance{feature=Feature{name='Income', type=number, value=134.0}, score=0.07716557457196652}]}}\n"
     ]
    },
    {
     "name": "stderr",
     "output_type": "stream",
     "text": [
      "[Parallel(n_jobs=1)]: Using backend SequentialBackend with 1 concurrent workers.\n",
      "[Parallel(n_jobs=1)]: Done  10 out of  10 | elapsed:    0.0s finished\n",
      "[Parallel(n_jobs=1)]: Using backend SequentialBackend with 1 concurrent workers.\n",
      "[Parallel(n_jobs=1)]: Done  10 out of  10 | elapsed:    0.0s finished\n",
      "[Parallel(n_jobs=1)]: Using backend SequentialBackend with 1 concurrent workers.\n",
      "[Parallel(n_jobs=1)]: Done  10 out of  10 | elapsed:    0.0s finished\n",
      "[Parallel(n_jobs=1)]: Using backend SequentialBackend with 1 concurrent workers.\n",
      "[Parallel(n_jobs=1)]: Done  10 out of  10 | elapsed:    0.0s finished\n",
      "[Parallel(n_jobs=1)]: Using backend SequentialBackend with 1 concurrent workers.\n",
      "[Parallel(n_jobs=1)]: Done  10 out of  10 | elapsed:    0.0s finished\n"
     ]
    }
   ],
   "source": [
    "from trustyai.model import Prediction\n",
    "\n",
    "outputs = provider.predictAsync([inputs]).get().get(0)\n",
    "prediction = Prediction(inputs, outputs)\n",
    "\n",
    "saliencyMap = limeExplainer.explainAsync(prediction, provider).get()\n",
    "\n",
    "print(saliencyMap)"
   ]
  },
  {
   "cell_type": "code",
   "execution_count": null,
   "id": "13a3898e-fbb1-49d5-b227-ac0c4dd7aff9",
   "metadata": {},
   "outputs": [],
   "source": []
  }
 ],
 "metadata": {
  "kernelspec": {
   "display_name": "python-trustyai",
   "language": "python",
   "name": "python-trustyai"
  },
  "language_info": {
   "codemirror_mode": {
    "name": "ipython",
    "version": 3
   },
   "file_extension": ".py",
   "mimetype": "text/x-python",
   "name": "python",
   "nbconvert_exporter": "python",
   "pygments_lexer": "ipython3",
   "version": "3.9.4"
  },
  "toc-showcode": false,
  "toc-showmarkdowntxt": true,
  "toc-showtags": true
 },
 "nbformat": 4,
 "nbformat_minor": 5
}
