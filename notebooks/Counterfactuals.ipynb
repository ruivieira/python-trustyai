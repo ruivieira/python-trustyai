{
 "cells": [
  {
   "cell_type": "markdown",
   "id": "8f0f2186",
   "metadata": {},
   "source": [
    "# Counterfactual explanations"
   ]
  },
  {
   "cell_type": "code",
   "execution_count": 1,
   "id": "569777b3",
   "metadata": {},
   "outputs": [],
   "source": [
    "import trustyai\n",
    "\n",
    "trustyai.init(\n",
    "    path=[\n",
    "        \"../dep/org/kie/kogito/explainability-core/1.8.0.Final/*\",\n",
    "        \"../dep/org/slf4j/slf4j-api/1.7.30/slf4j-api-1.7.30.jar\",\n",
    "        \"../dep/org/apache/commons/commons-lang3/3.12.0/commons-lang3-3.12.0.jar\",\n",
    "        \"../dep/org/optaplanner/optaplanner-core/8.8.0.Final/optaplanner-core-8.8.0.Final.jar\",\n",
    "        \"../dep/org/apache/commons/commons-math3/3.6.1/commons-math3-3.6.1.jar\",\n",
    "        \"../dep/org/kie/kie-api/7.55.0.Final/kie-api-7.55.0.Final.jar\",\n",
    "        \"../dep/io/micrometer/micrometer-core/1.6.6/micrometer-core-1.6.6.jar\",\n",
    "    ]\n",
    ")"
   ]
  },
  {
   "cell_type": "markdown",
   "id": "12645d02",
   "metadata": {},
   "source": [
    "## Simple example\n",
    "\n",
    "We start by defining our black-box model, typically represented by\n",
    "\n",
    "$$\n",
    "f(\\mathbf{x}) = \\mathbf{y}\n",
    "$$\n",
    "\n",
    "Where $\\mathbf{x}=\\{x_1, x_2, \\dots,x_m\\}$ and $\\mathbf{y}=\\{y_1, y_2, \\dots,y_n\\}$.\n",
    "\n",
    "Our example toy model, in this case, takes an all-numerical input $\\mathbf{x}$ and return a $\\mathbf{y}$ of either `true` or `false` if the sum of the $\\mathbf{x}$ components is within a threshold $\\epsilon$ of a point $\\mathbf{C}$, that is:\n",
    "\n",
    "$$\n",
    "f(\\mathbf{x}, \\epsilon, \\mathbf{C})=\\begin{cases}\n",
    "\\text{true},\\qquad \\text{if}\\ \\mathbf{C}-\\epsilon<\\sum_{i=1}^m x_i <\\mathbf{C}+\\epsilon \\\\\n",
    "\\text{false},\\qquad \\text{otherwise}\n",
    "\\end{cases}\n",
    "$$\n",
    "\n",
    "This model is provided in the `TestUtils` module. We instantiate with a $\\mathbf{C}=500$ and $\\epsilon=1.0$."
   ]
  },
  {
   "cell_type": "code",
   "execution_count": 2,
   "id": "22ba9951",
   "metadata": {},
   "outputs": [],
   "source": [
    "from trustyai.utils import TestUtils\n",
    "\n",
    "center = 500.0\n",
    "epsilon = 1.0\n",
    "\n",
    "model = TestUtils.getSumThresholdModel(center, epsilon)"
   ]
  },
  {
   "cell_type": "markdown",
   "id": "b80d0d68",
   "metadata": {},
   "source": [
    "Next we need to define a **goal**.\n",
    "If our model is $f(\\mathbf{x'})=\\mathbf{y'}$ we are then defining our $\\mathbf{y'}$ and the counterfactual result will be the $\\mathbf{x'}$ which satisfies $f(\\mathbf{x'})=\\mathbf{y'}$.\n",
    "\n",
    "We will define our goal as `true`, that is, the sum is withing the vicinity of a (to be defined) point $\\mathbf{C}$. The goal is a list of `Output` which take the following parameters\n",
    "\n",
    "- The feature name\n",
    "- The feature type\n",
    "- The feature value (wrapped in `Value`)\n",
    "- A confidence threshold, which we will leave at zero (no threshold)"
   ]
  },
  {
   "cell_type": "code",
   "execution_count": 3,
   "id": "5bcb0105",
   "metadata": {},
   "outputs": [],
   "source": [
    "from trustyai.model import Output, Type, Value\n",
    "\n",
    "goal = [Output(\"inside\", Type.BOOLEAN, Value(True), 0.0)]"
   ]
  },
  {
   "cell_type": "markdown",
   "id": "4e7fb934",
   "metadata": {},
   "source": [
    "We will now define our initial features, $\\mathbf{x}$. Each feature can be instantiated by using `FeatureFactory` and in this case we want to use numerical features, so we'll use `FeatureFactory.newNumericalFeature`."
   ]
  },
  {
   "cell_type": "code",
   "execution_count": 4,
   "id": "6aa524ae",
   "metadata": {},
   "outputs": [],
   "source": [
    "import random\n",
    "from trustyai.model import FeatureFactory\n",
    "\n",
    "features = [FeatureFactory.newNumericalFeature(f\"x{i+1}\", random.random()*10.0) for i in range(4)]"
   ]
  },
  {
   "cell_type": "markdown",
   "id": "db9c90ff",
   "metadata": {},
   "source": [
    "As we can see, the sum of of the features will not be within $\\epsilon$ (1.0) of $\\mathbf{C}$ (500.0). As such the model prediction will be `false`:"
   ]
  },
  {
   "cell_type": "code",
   "execution_count": 5,
   "id": "f0f07043",
   "metadata": {},
   "outputs": [
    {
     "name": "stdout",
     "output_type": "stream",
     "text": [
      "Feature x1 has value 6.953686434260184\n",
      "Feature x2 has value 0.6895992287088226\n",
      "Feature x3 has value 9.429677348990124\n",
      "Feature x4 has value 3.6853630123991774\n",
      "\n",
      "Features sum is 20.75832602435831\n"
     ]
    }
   ],
   "source": [
    "feature_sum = 0.0\n",
    "for f in features:\n",
    "    value = f.getValue().asNumber()\n",
    "    print(f\"Feature {f.getName()} has value {value}\")\n",
    "    feature_sum += value\n",
    "print(f\"\\nFeatures sum is {feature_sum}\")"
   ]
  },
  {
   "cell_type": "markdown",
   "id": "4773e71a",
   "metadata": {},
   "source": [
    "The next step is to specify the **constraints** of the features, i.e. which features can be changed and which should be fixed. Since we want all features to be able to change, we specify `False` for all of them:"
   ]
  },
  {
   "cell_type": "code",
   "execution_count": 6,
   "id": "513d2e5a",
   "metadata": {},
   "outputs": [],
   "source": [
    "constraints = [False] * 4"
   ]
  },
  {
   "cell_type": "markdown",
   "id": "1894c1d7",
   "metadata": {},
   "source": [
    "Finally, we also specify which are the **bounds** for the counterfactual search. Typically this can be set either using domain-specific knowledge or taken from the data. In this case we simply specify an arbitrary (sensible) value, e.g. all the features can vary between `0` and `1000`."
   ]
  },
  {
   "cell_type": "code",
   "execution_count": 7,
   "id": "30dcc15b",
   "metadata": {},
   "outputs": [],
   "source": [
    "from trustyai.model.domain import NumericalFeatureDomain\n",
    "\n",
    "feature_boundaries = [NumericalFeatureDomain.create(0.0, 1000.0)] * 4"
   ]
  },
  {
   "cell_type": "markdown",
   "id": "be0cdfe3",
   "metadata": {},
   "source": [
    "In order to use the boundaries in the explainer we need to wrap all of them in a `DataDomain` class:"
   ]
  },
  {
   "cell_type": "code",
   "execution_count": 8,
   "id": "9cfe2a9d",
   "metadata": {},
   "outputs": [],
   "source": [
    "from trustyai.model import DataDomain\n",
    "\n",
    "data_domain = DataDomain(feature_boundaries)"
   ]
  },
  {
   "cell_type": "markdown",
   "id": "e47d348e",
   "metadata": {},
   "source": [
    "We can now instantiate the **explainer** itself.\n",
    "\n",
    "To do so, we will to configure the termination criteria. For this example we will specify that the counterfactual search should only execute a maximum of 10,000 iterations before stopping and returning whatever the best result is so far."
   ]
  },
  {
   "cell_type": "code",
   "execution_count": 9,
   "id": "bcd25df0",
   "metadata": {},
   "outputs": [],
   "source": [
    "from org.optaplanner.core.config.solver.termination import TerminationConfig\n",
    "from org.kie.kogito.explainability.local.counterfactual import CounterfactualConfigurationFactory\n",
    "from java.lang import Long\n",
    "\n",
    "termination_config = TerminationConfig().withScoreCalculationCountLimit(Long.valueOf(10_000))\n",
    "\n",
    "solver_config = (\n",
    "        CounterfactualConfigurationFactory.builder()\n",
    "        .withTerminationConfig(termination_config)\n",
    "        .build()\n",
    "    )"
   ]
  },
  {
   "cell_type": "markdown",
   "id": "790e868f",
   "metadata": {},
   "source": [
    "We can can now instantiate the explainer itself using `CounterfactualExplainer` and our `solver_config` configuration."
   ]
  },
  {
   "cell_type": "code",
   "execution_count": 10,
   "id": "c2b76274",
   "metadata": {},
   "outputs": [
    {
     "name": "stderr",
     "output_type": "stream",
     "text": [
      "SLF4J: Failed to load class \"org.slf4j.impl.StaticLoggerBinder\".\n",
      "SLF4J: Defaulting to no-operation (NOP) logger implementation\n",
      "SLF4J: See http://www.slf4j.org/codes.html#StaticLoggerBinder for further details.\n"
     ]
    }
   ],
   "source": [
    "from org.kie.kogito.explainability.local.counterfactual import CounterfactualExplainer\n",
    "\n",
    "explainer = CounterfactualExplainer.builder().withSolverConfig(solver_config).build()"
   ]
  },
  {
   "cell_type": "markdown",
   "id": "292c136c",
   "metadata": {},
   "source": [
    "We will now express the counterfactual problem as defined above.\n",
    "\n",
    "- `original` represents our $\\mathbf{x}$ which know gives a prediction of `False`\n",
    "- `goals` represents our $\\mathbf{y'}$, that is our desired prediction (`True`)\n",
    "- `domain` repreents the boundaries for the counterfactual search"
   ]
  },
  {
   "cell_type": "code",
   "execution_count": 11,
   "id": "92356f76",
   "metadata": {},
   "outputs": [],
   "source": [
    "from trustyai.model import PredictionFeatureDomain, PredictionInput, PredictionOutput\n",
    "\n",
    "original = PredictionInput(features)\n",
    "goals = PredictionOutput(goal)\n",
    "domain = PredictionFeatureDomain(data_domain.getFeatureDomains())"
   ]
  },
  {
   "cell_type": "markdown",
   "id": "00c09d95",
   "metadata": {},
   "source": [
    "We wrap these quantities in a `CounterfactualPrediction` (the UUID is simply to label the search instance):"
   ]
  },
  {
   "cell_type": "code",
   "execution_count": 12,
   "id": "19a001ac",
   "metadata": {},
   "outputs": [],
   "source": [
    "import uuid\n",
    "from trustyai.model import CounterfactualPrediction\n",
    "\n",
    "prediction = CounterfactualPrediction(original, goals, domain, constraints, None, uuid.uuid4())"
   ]
  },
  {
   "cell_type": "markdown",
   "id": "6d593f4f",
   "metadata": {},
   "source": [
    "We now request the counterfactual $\\mathbf{x'}$ which is closest to $\\mathbf{x}$ and which satisfies $f(\\mathbf{x'}, \\epsilon, \\mathbf{C})=\\mathbf{y'}$:"
   ]
  },
  {
   "cell_type": "code",
   "execution_count": 13,
   "id": "e5783b3d",
   "metadata": {},
   "outputs": [],
   "source": [
    "explanation_async = explainer.explainAsync(prediction, model)"
   ]
  },
  {
   "cell_type": "markdown",
   "id": "b2af6cb4",
   "metadata": {},
   "source": [
    "The counterfactual explainer API operates in a asynchronous way, so we need to `.get()` the result:"
   ]
  },
  {
   "cell_type": "code",
   "execution_count": 14,
   "id": "cc2ad21e",
   "metadata": {},
   "outputs": [],
   "source": [
    "explanation = explanation_async.get()"
   ]
  },
  {
   "cell_type": "markdown",
   "id": "7fcfb591",
   "metadata": {},
   "source": [
    "We can see that the counterfactual $\\mathbf{x'}$"
   ]
  },
  {
   "cell_type": "code",
   "execution_count": 15,
   "id": "6f1e04c1",
   "metadata": {},
   "outputs": [
    {
     "name": "stdout",
     "output_type": "stream",
     "text": [
      "java.lang.DoubleFeature{value=485.4101987057185, intRangeMinimum=0.0, intRangeMaximum=1000.0, id='x1'}\n",
      "java.lang.DoubleFeature{value=0.6895992287088226, intRangeMinimum=0.0, intRangeMaximum=1000.0, id='x2'}\n",
      "java.lang.DoubleFeature{value=9.291426877845232, intRangeMinimum=0.0, intRangeMaximum=1000.0, id='x3'}\n",
      "java.lang.DoubleFeature{value=3.6853630123991774, intRangeMinimum=0.0, intRangeMaximum=1000.0, id='x4'}\n",
      "\n",
      "Feature sum is 499.0765878246718\n"
     ]
    }
   ],
   "source": [
    "feature_sum = 0.0\n",
    "for entity in explanation.getEntities():\n",
    "    print(entity)\n",
    "    feature_sum += entity.getProposedValue()\n",
    "    \n",
    "print(f\"\\nFeature sum is {feature_sum}\")"
   ]
  },
  {
   "cell_type": "markdown",
   "id": "17c7d05f",
   "metadata": {},
   "source": [
    "## Constrained features\n",
    "\n",
    "As we've seen, it is possible to constraint a specific feature $x_i$ by setting the _constraints_ list corresponding element to `True`.\n",
    "\n",
    "In this example, we know want to fix $x_1$ and $x_4$. That is, these features should have the same value in the counterfactual $\\mathbf{x'}$ as in the original $\\mathbf{x}$."
   ]
  },
  {
   "cell_type": "code",
   "execution_count": 16,
   "id": "919c1b51",
   "metadata": {},
   "outputs": [],
   "source": [
    "constraints = [True, False, False, True] # x1, x2, x3 and x4"
   ]
  },
  {
   "cell_type": "markdown",
   "id": "1e7071d7",
   "metadata": {},
   "source": [
    "We simply need to wrap the previous quantities with the new constraints:"
   ]
  },
  {
   "cell_type": "code",
   "execution_count": 17,
   "id": "42e88d35",
   "metadata": {},
   "outputs": [],
   "source": [
    "prediction = CounterfactualPrediction(original, goals, domain, constraints, None, uuid.uuid4())"
   ]
  },
  {
   "cell_type": "markdown",
   "id": "6321b0d9",
   "metadata": {},
   "source": [
    "And request a new counterfactual explanation"
   ]
  },
  {
   "cell_type": "code",
   "execution_count": 18,
   "id": "197fc2ea",
   "metadata": {},
   "outputs": [],
   "source": [
    "explanation = explainer.explainAsync(prediction, model).get()"
   ]
  },
  {
   "cell_type": "markdown",
   "id": "c5d5c0d1",
   "metadata": {},
   "source": [
    "We can see that $x_1$ and $x_4$ has the same value as the original and the model satisfies the conditions."
   ]
  },
  {
   "cell_type": "code",
   "execution_count": 19,
   "id": "7e373cf6",
   "metadata": {},
   "outputs": [
    {
     "name": "stdout",
     "output_type": "stream",
     "text": [
      "Original x1: 6.953686434260184\n",
      "Original x4: 3.6853630123991774\n",
      "\n",
      "java.lang.DoubleFeature{value=6.953686434260184, intRangeMinimum=6.953686434260184, intRangeMaximum=6.953686434260184, id='x1'}\n",
      "java.lang.DoubleFeature{value=0.7810382333337529, intRangeMinimum=0.0, intRangeMaximum=1000.0, id='x2'}\n",
      "java.lang.DoubleFeature{value=488.03303690921916, intRangeMinimum=0.0, intRangeMaximum=1000.0, id='x3'}\n",
      "java.lang.DoubleFeature{value=3.6853630123991774, intRangeMinimum=3.6853630123991774, intRangeMaximum=3.6853630123991774, id='x4'}\n"
     ]
    }
   ],
   "source": [
    "print(f\"Original x1: {features[0].getValue()}\")\n",
    "print(f\"Original x4: {features[3].getValue()}\\n\")\n",
    "\n",
    "for entity in explanation.getEntities():\n",
    "    print(entity)"
   ]
  },
  {
   "cell_type": "code",
   "execution_count": null,
   "id": "ad71d609",
   "metadata": {},
   "outputs": [],
   "source": []
  }
 ],
 "metadata": {
  "kernelspec": {
   "display_name": "python-trustyai",
   "language": "python",
   "name": "python-trustyai"
  },
  "language_info": {
   "codemirror_mode": {
    "name": "ipython",
    "version": 3
   },
   "file_extension": ".py",
   "mimetype": "text/x-python",
   "name": "python",
   "nbconvert_exporter": "python",
   "pygments_lexer": "ipython3",
   "version": "3.9.5"
  }
 },
 "nbformat": 4,
 "nbformat_minor": 5
}
